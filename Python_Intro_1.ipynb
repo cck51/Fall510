{
 "metadata": {					#initializes metadata keys, a place to put arbitrary information about the notebook/cell/output
  "name": "",					#defines a name for a cell
  "signature": "sha256:b871f5161cefb0ab78fba1c8200a4e7d2eb21be397c9acd8ab196d1e6fb76db1"	#a hashed signature of the notebook
 },			
 "nbformat": 3,					#reads/writes notebook file as particular nbformat versions
 "nbformat_minor": 0,			#when backward-compatible changes are made, the notebook format minor version is incremented
 "worksheets": [
  {
   "cells": [					#defines cells
    {							#new cell
     "cell_type": "heading",	#specifies type of cell as heading
     "level": 1,				#specifies size, level 1 is largest
     "metadata": {},			#metadata contents of cell
     "source": [				#specifies source of text to be displayed, in this case a string
      "Introduction to iPython"	
     ]
    },  #End Cell
    {	#New Cell
     "cell_type": "heading",	#specifies type of cell as heading
     "level": 2,				#specifies size, level 2 is second largest
     "metadata": {},			#metadata contents of cell
     "source": [				#specifies source of text to be displayed, in this case a string
      "Do some simple math. Add and multiply some numbers."	#string to be displayed
     ]
    },	#End Cell
    {	#New Cell
     "cell_type": "code",	#specifies type of cell, this cell will contain code
     "collapsed": false,	#specifies the cell is NOT to be collapsed
     "input": [				#code to be run
      "print(2+56+84+65498+21+22)\n",	#returns sum followed by new line
      "print(2**8)\n",					#returns 2^8 followed by new line
      "print((1+4)*(9-6))"				#returns product of two sums
     ],
     "language": "python",	#specifies programming language
     "metadata": {},		#metadata contents of cell
     "outputs": [			#output of code
      {
       "output_type": "stream",	#specifies type of output as stream
       "stream": "stdout",	#standard output - the stream where a program writes its output data
       "text": [			#specifies text to be displayed
        "65683\n",	#output of print(2+56+84+65498+21+22) followed by new line
        "256\n",	#output of print(2**8) followed by new line
        "15\n"		#output of print((1+4)*(9-6)) followed by new line
       ]
      }
     ],
     "prompt_number": 2			#displays "In [2]:" at first line of cell
    },	#End Cell
    {	#New Cell
     "cell_type": "heading",	#specifies type of cell as heading
     "level": 2,				#specifies size, level 2 is second largest
     "metadata": {},			#metadata contents of cell
     "source": [				#specifies source of text to be displayed, in this case a string
      "Characters"     			#string to be displayed
     ]
    }, #End Cell
    {  #New Cell
     "cell_type": "code",	#specifies type of cell, this cell will contain code
     "collapsed": false,	#specifies cell should NOT be collapsed
     "input": [				#code to be run
      "s = 'spam'\n",		#creates string 'spam' stored as variable s
      "print(s[0], s[-2])\n",	#returns 0 index of variable s, followed by -2 index of variable s
      "print(s[1:3], s[1:], s[:-1])" #returns slice from index positions 1 and 2 of variable s, followed by slice from index position 1 to the end of variable s, followed by slice from beginning of variable s to index position -1(exclusive)
     ],
     "language": "python",	#specifies programming language
     "metadata": {},		#metadata contents of cell
     "outputs": [			#output of code
      {
       "output_type": "stream",	#specifies type of output as stream
       "stream": "stdout",		#standard output - the stream where a program writes its output data
       "text": [				#specifies text to be displayed
        "s a\n",				#output of print(s[0], s[-2])\n	
        "pa pam spa\n"			#output of print(s[1:3], s[1:], s[:-1])
       ]
     "source": [				#specifies source of text to be displayed, in this case a string
      "Check current working directory"		#string to be displayed
     ]
    },
      }
     ],
     "prompt_number": 7			#displays "In [7]:" at first line of cell
    },	#End Cell
    {	#New Cell
     "cell_type": "heading",	#specifies type of cell as heading
     "level": 2,				#specifies size, level 2 is second largest
     "metadata": {},			#metadata contents of cell
    {	#New Cell
     "cell_type": "code",		#specifies type of cell, this cell will contain code
     "collapsed": false,		#specifies cell's output should NOT be collapsed
     "input": [
      "import sys #Load the sys library\n",
      "import os #Load the os library\n",
      "import re #Load regular expression pattern matching library\n",
      "print(os.getcwd())\n", #returns current directory
      "print(sys.platform)"	#returns platform value 'darwin' for Mac OS X
     ],
     "language": "python",		#specifies programming language
     "metadata": {},			#metadata contents of cell
     "outputs": [				#output of code
      {
       "output_type": "stream",	#specifies type of output as stream
       "stream": "stdout",		#standard output - the stream where a program writes its output data
       "text": [				#specifies text to be displayed
        "/Users/gs13macpro/Box Sync/Gerhard Pilcher/Georgetown Univ/510 Course 2015 Fall/Python\n",	#displays current directory
        "darwin\n"				#displays platform value
       ]
      }
     ],
     "prompt_number": 10		#displays "In [10]:" at first line of cell
    }, #End Cell
    {  #New Cell
     "cell_type": "heading",	#specifies type of cell as heading
     "level": 2,				#specifies size, level 2 is second largest
     "metadata": {},			#metadata contents of cell
     "source": [				#specifies source of text to be displayed, in this case a string
      "Help"					#string to be displayed
     ]
    },	#End Cell
    {	#New Cell
     "cell_type": "code",		#specifies type of cell, this cell will contain code
     "collapsed": false,		#specifies cell should NOT be collapsed
     "input": [					#code to be run
      "help(os)"
     ],
“AW: What there an output to be displayed for help((os)?”
     "language": "python",		#specifies programming language
     "metadata": {},			#metadata contents of cell
     "outputs": [],				#output of code
     "prompt_number": 11		#displays "In [11]:" at first line of cell
    },	#End Cell
    {	#New Cell
     "cell_type": "code",		#specifies type of cell, this cell will contain code
     "collapsed": false,		#specifies cell should NOT be collapsed
     "input": [					#code to be run
      "import urllib.request\n",	#imports request from urllib
      "r = urllib.request.urlopen('https://github.com/Math510/Math510.github.io/raw/master/2015%20FALL%20510%20Course%20Schedule.pdf')\n",	#creates variable r as URL specified
      "myfile = open('<need to specify a location on your computer>', 'wb')\n",	#creates new file called myfile at a defined location on computer
      "myfile.write(r.read())\n",	#reads contents of URL specified by variable r and writes the resulting contents line-by-line to myfile
      "myfile.close()"	#closes myfile so it cannot be read or written anymore
     ],
     "language": "python",	#specifies programming language
     "metadata": {},		#metadata contents of cell
     "outputs": [],			#output of code is empty since all steps were executed and myfile has been closed
     "prompt_number": 14	#displays "In [14]:" at first line of cell
    },	#End Cell
    {	#New Cell
     "cell_type": "code",	#specifies type of cell, this cell will contain code
     "collapsed": false,	#specifies cell should NOT be collapsed
     "input": [				#code to be run
      "r = urllib.request.urlopen('https://github.com/Math510/Math510.github.io/raw/master/2015%20FALL%20510%20Syllabus.pdf')\n",			#creates variable r as URL specified
      "myfile = open('<need to specify a location on your computer>', 'wb')\n",	#creates new file called myfile at a defined location on computer
      "myfile.write(r.read())\n",	#reads contents of URL specified by variable r and writes the resulting contents line-by-line to myfile
      "myfile.close()"		#closes myfile so it cannot be read or written anymore
     ],
     "language": "python",	#specifies programming language
     "metadata": {},		#metadata contents of cell
     "outputs": [],			#output of code is empty since all steps were executed and myfile has been closed
     "prompt_number": 16	#displays "In [16]:" at first line of cell
    }, #End Cell
    {  #New Cell
     "cell_type": "heading",	#specifies type of cell as heading
     "level": 2,				#specifies size, level 2 is second largest
     "metadata": {},			#metadata contents of cell
     "source": [				#specifies source of text to be displayed, in this case a string
      "Modules"					#string to be displayed
     ]
    },#End Cell
    { #New Cell
     "cell_type": "heading",	#specifies type of cell as heading
     "level": 3,				#specifies size, level 3 is third largest
     "metadata": {},			#metadata contents of cell
     "source": [				#specifies source of text to be displayed, in this case a string
      "Create a variable"		#string to be displayed
     ]
    },#End Cell
    { #New Cell
     "cell_type": "code",		#specifies type of cell, this cell will contain code
     "collapsed": false,		#specifies cell should NOT be collapsed
     "input": [					#code to be run
      "title = 'Something Else'\n",	#creates variable title as the string 'Something Else'
      "print(title)"				#returns variable title
     ],
     "language": "python",		#specifies programming language
     "metadata": {},			#metadata contents of cell
     "outputs": [				#output of code
      {
       "output_type": "stream",	#specifies type of output as stream
       "stream": "stdout",		#standard output - the stream where a program writes its output data
       "text": [				#specifies text to be displayed
        "Something Else\n"
       ]
      }
     ],
     "prompt_number": 2			#displays "In [2]:" at first line of cell
    }, #End Cell
    {  #New Cell
     "cell_type": "heading",	#specifies type of cell as heading
     "level": 3,				#specifies size, level 3 is third largest
     "metadata": {},			#metadata contents of cell
     "source": [				#specifies source of text to be displayed, in this case a string
      "Import variables from a module"	#string to be displayed
     ]
    }, #End Cell
    {  #New Cell
     "cell_type": "code",		#specifies type of cell, this cell will contain code
     "collapsed": false,		#specifies cell should NOT be collapsed
     "input": [					#code to be run
      "import Class_1_Module #uses Class_1_Module name space\n", 
      "dir(Class_1_Module)\n",	#returns list of module's attribute names
      "print(Class_1_Module.title)\n",	#returns variable title from Class_1_module, i.e. 'Math 510 Fall 2015'
      "print(Class_1_Module.MyAge)\n",	#returns variable MyAge from Class_1_module, i.e. '54'
      "\n",
      "print(title)"	#returns variable title, i.e. 'Something Else'
     ],
     "language": "python",	#specifies programming language
     "metadata": {},		#metadata contents of cell
     "outputs": [			#output of code
      {
       "output_type": "stream",	#specifies type of output as stream
       "stream": "stdout",		#standard output - the stream where a program writes its output data
       "text": [				#specifies text to be displayed
        "Math 510 Fall 2015\n",	#output of print(Class_1_Module.title)
        "54.0\n",				#output of print(Class_1_Module.MyAge)
        "Something Else\n"		#output of print(title)
       ]
      }
     ],
     "prompt_number": 3			#displays "In [3]:" at first line of cell
    },	#End Cell
    {	#New Cell
     "cell_type": "heading",	#specifies type of cell as heading
     "level": 2,				#specifies size, level 2 is second largest
     "metadata": {},			#metadata contents of cell
     "source": [				#specifies source of text to be displayed, in this case a string
      "Show the difference in scope between importing a module and importing a specific variable from the module"	#string to be displayed
     ]
    },	#End Cell
    {	#New Cell
     "cell_type": "code",		#specifies type of cell, this cell will contain code
     "collapsed": false,		#specifies cell should NOT be collapsed
     "input": [					#code to be run
      "#copies into local name space, overwrites same named variable\n",
      "#without warning\n",
      "from Class_1_Module import title \n",	#imports the variable title from Class_1_Module thus overwriting our original title variable 
      "print(title)"							#returns the variable title, i.e. 'Math 510 Fall 2015'
     ],
     "language": "python",	#specifies programming language
     "metadata": {},		#metadata contents of cell
     "outputs": [			#output of code
      {
       "output_type": "stream",	#specifies type of output as stream
       "stream": "stdout",		#standard output - the stream where a program writes its output data
       "text": [				#specifies text to be displayed
        "Math 510 Fall 2015\n"	#output of print(title)
       ]
“AW: Great comments for this assignment!”
      }
     ],
     "prompt_number": 4			#displays "In [4]:" at first line of cell
    },	#End Cell
    {	#New Cell
     "cell_type": "heading",	#specifies type of cell as heading
     "level": 2,				#specifies size, level 2 is second largest
     "metadata": {},			#metadata contents of cell
     "source": [				#specifies source of text to be displayed, in this case a string
      "Functions"				#string to be displayed
     ]
    },	#End Cell
    {	#New Cell
     "cell_type": "code",		#specifies type of cell, this cell will contain code
     "collapsed": false,		#specifies cell should NOT be collapsed
     "input": [],				#code to be run, in this case there is no code
     "language": "python",		#specifies programming language
     "metadata": {},			#metadata contents of cell
     "outputs": []				#no code = no output
    }
   ],
   "metadata": {}				
  }
 ]
}