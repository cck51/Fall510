{
 "cells": [
  {
   "cell_type": "code",
   "execution_count": 1,
   "metadata": {
    "collapsed": false
   },
   "outputs": [
    {
     "data": {
      "text/plain": [
       "8.0"
      ]
     },
     "execution_count": 1,
     "metadata": {},
     "output_type": "execute_result"
    }
   ],
   "source": [
    "def polygarea(coords):\n",
    "    xs = [] #create an empty list which we will populate all of the x values to\n",
    "    tmp = 0 #start a counter at zero, this will represent the summation in Greene's theorem\n",
    "    for i in coords: #indexes through each coordinate pair\n",
    "        xs.append(i[0]) #appends the x coordinate of each pair to our list of x values\n",
    "    ys = [] #create an empty list which we will populate all of the y value to\n",
    "    for i in coords: #indexes through each coordinate pair\n",
    "        ys.append(i[1]) #appends the y coordinate of each pair to our list of y values\n",
    "    for i in range(len(xs)): #iterate the following code a number of times equal to the number of elements in our list of x values (or y values)\n",
    "        if i < (len(xs)-1): #if i is less than the length of our x values (minus 1) run the following code\n",
    "            tmp += ((xs[i]*ys[i+1]) - xs[i+1]*ys[i]) #add to our counter the value of the function specified by Greene's theorem\n",
    "        if i==(len(xs)-1): #if i is equal to the length of our x values (minus 1), run the following code\n",
    "            tmp += ((xs[i]*ys[0]) - xs[0]*ys[i]) #add to our counter the value of the function specified by greene's theorem where X(n+1) = X1\n",
    "    if tmp<0: #if the value of our counter after indexing through all coordinate pairs and applying the summation specified in Greene's theorem is negative run the following code\n",
    "        tmp = -1 * tmp #make it positive\n",
    "    if tmp>=0: #if the value of our counter after indexing through all coordinate pairs and applying the summation specified by Greene's theorem is non-negative, run the following code \n",
    "        tmp = tmp #leave our counter alone\n",
    "    return (.5*tmp) #returns 1/2 * the absolute value of our summation which is Greene's theorem\n",
    "\n",
    "\n",
    "polygarea([(0,0),(0,2),(2,2),(2,0)])\n",
    "\n",
    "def polygperim(coords):\n",
    "    perim = 0 #start a counter at zero, we will add the length of each line segment to this to find the perimeter\n",
    "    xs = [] #create an empty list for the x coordinates\n",
    "    for i in coords: #indexes through each coordinate pair\n",
    "        xs.append(i[0]) #appends the x coordinate of each pair to our list of x values\n",
    "    ys = [] #create an empty list which we will populate all of the y value to\n",
    "    for i in coords: #indexes through each coordinate pair\n",
    "        ys.append(i[1]) #appends the y coordinate of each pair to our list of y values\n",
    "    for j in range(len(xs)): #iterate the following code a number of times equal to the number of elements in our list of x values (or the list of y values)\n",
    "        if j < (len(xs)-1): #if i is less than the length of our x values (minus 1) run the following code\n",
    "            perim += ((((xs[j+1]-xs[j])**2) + ((ys[j+1]- ys[j])**2))**.5) #using the distance formula, calculate the length of each line segment and add it to our counter variable called \"perim\"\n",
    "        if j == (len(xs)-1): #if i is equal to length of our x values (minus 1) run the following code\n",
    "            perim += ((((xs[j]-xs[0])**2) + ((ys[j]- ys[0])**2))**.5) #using the distance formula, calculate the length of the last line segment and add it to our counter variable called \"perim\"\n",
    "\n",
    "    return perim #return the total perimeter\n",
    "\n",
    "polygperim([(0,0),(0,2),(2,2),(2,0)]) "
   ]
  },
  {
   "cell_type": "code",
   "execution_count": null,
   "metadata": {
    "collapsed": true
   },
   "outputs": [],
   "source": []
  },
  {
   "cell_type": "code",
   "execution_count": null,
   "metadata": {
    "collapsed": true
   },
   "outputs": [],
   "source": []
  }
 ],
 "metadata": {
  "kernelspec": {
   "display_name": "Python 3",
   "language": "python",
   "name": "python3"
  },
  "language_info": {
   "codemirror_mode": {
    "name": "ipython",
    "version": 3
   },
   "file_extension": ".py",
   "mimetype": "text/x-python",
   "name": "python",
   "nbconvert_exporter": "python",
   "pygments_lexer": "ipython3",
   "version": "3.4.3"
  }
 },
 "nbformat": 4,
 "nbformat_minor": 0
}
