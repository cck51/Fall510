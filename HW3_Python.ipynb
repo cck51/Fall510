{
 "cells": [
  {
   "cell_type": "code",
   "execution_count": 22,
   "metadata": {
    "collapsed": false
   },
   "outputs": [],
   "source": [
    "#procedure histogram takes a list of integers and prints a histogram to the screen\n",
    "\n",
    "def histogram(a):   \n",
    "    for i in range(len(a)): #loops over all index values in list\n",
    "        print(a[i] * '*')  #prints the character * a number of times equal to the index value\n",
    "    "
   ]
  },
  {
   "cell_type": "code",
   "execution_count": 21,
   "metadata": {
    "collapsed": false
   },
   "outputs": [],
   "source": [
    "#function max_in_list takes a list of integers and returns the largest value in that list\n",
    "\n",
    "def max_in_list(a):\n",
    "    mymax = a[0]     #assume the maximum value is the first number in the list\n",
    "    for i in range(len(a)): #loop over all values in list\n",
    "        if a[i]>mymax:    #if we find a larger value than our initial max, run the following code\n",
    "            mymax=a[i]   #set the new max equal to the larger value we just found\n",
    "    return mymax\n",
    "            \n"
   ]
  },
  {
   "cell_type": "code",
   "execution_count": 20,
   "metadata": {
    "collapsed": false
   },
   "outputs": [],
   "source": [
    "#function map_words takes a list of words and maps it into a list of integers representing the lengths of the corresponding words\n",
    "\n",
    "def map_words(a):\n",
    "    my_list = [] #intiate empty list\n",
    "    for i in range(len(a)): #loop over all values in list using their index\n",
    "        list_length = len(a[i]) #create variable to be an integer value of the length of each element in our list\n",
    "        my_list.append(list_length) #append this integer value to our empty list\n",
    "    return my_list\n"
   ]
  },
  {
   "cell_type": "code",
   "execution_count": 9,
   "metadata": {
    "collapsed": false
   },
   "outputs": [
    {
     "data": {
      "text/plain": [
       "5"
      ]
     },
     "execution_count": 9,
     "metadata": {},
     "output_type": "execute_result"
    }
   ],
   "source": [
    "#function find_longest_word takes a list of words and returns the length of the largest word\n",
    "\n",
    "def find_longest_word(a):\n",
    "    longest_word = a[0] #assume longest word is the first element of our list\n",
    "    for i in range(len(a)): #loop over each element in our list\n",
    "        if len(a[i])>len(longest_word):  #if we find an element that is a longer word, run the following code\n",
    "            longest_word = a[i]         #reclassify our longest word to be the longer word we just found\n",
    "    return len(longest_word)        #return an integer value representing the length of the longest element\n",
    "\n"
   ]
  },
  {
   "cell_type": "code",
   "execution_count": 19,
   "metadata": {
    "collapsed": false
   },
   "outputs": [],
   "source": [
    "#function filter_long_words takes a list of words and an integer n and returns the list of words that are longer than n\n",
    "\n",
    "def filter_long_words(a,n):  \n",
    "    my_list = []  #generate empty list\n",
    "    for i in range(len(a)): #loops over each value in a\n",
    "        if len(a[i])>n: #if the length of the value is greater than our integer, run the following code\n",
    "            my_list.append(a[i]) #add that word to our list\n",
    "    return my_list\n",
    "\n"
   ]
  },
  {
   "cell_type": "code",
   "execution_count": 18,
   "metadata": {
    "collapsed": false
   },
   "outputs": [],
   "source": [
    "def palindrome_rec(a):\n",
    "    alphabet= 'ABCDEFGHIJKLMNOPQRSTUVWXYZabcdefghijklmnopqrstuvwxyz'\n",
    "    new_string= '' #generate empty string\n",
    "    for i in range(len(a)): #loop over all values in input string\n",
    "        if a[i] in alphabet: #if the value is a member of the alphabet, run the following code\n",
    "            new_string+=a[i] #add that value to our new string\n",
    "    for i in range(len(new_string)//2):  #loops over first half of characters in string\n",
    "         if new_string[i] !=new_string[-1-i]:    #if the the first index value of our new string is not equal to the last index value (and so on) run this code:\n",
    "                 return False  \n",
    "    return True\n",
    "\n"
   ]
  },
  {
   "cell_type": "code",
   "execution_count": 23,
   "metadata": {
    "collapsed": false
   },
   "outputs": [],
   "source": [
    "#function is_pangram takes a sentence and returns true if the sentence uses all the letters of the alphabet at least once and false otherwise\n",
    "\n",
    "def is_pangram(a):\n",
    "    chars = 'abcdefghijklmnopqrstuvwxyz' \n",
    "    num_letters= 0 #initiate counter variable at 0\n",
    "    for i in chars:  #loop over all characters in alphabet\n",
    "        if i in a:   #if that character is also in our sentence\n",
    "            num_letters+=1 #increase the counter by 1\n",
    "    if num_letters == 26:  #if the counter is exactly 26, each letter in the alphabet has been used\n",
    "        return True\n",
    "    else:\n",
    "        return False\n",
    "            "
   ]
  },
  {
   "cell_type": "code",
   "execution_count": null,
   "metadata": {
    "collapsed": true
   },
   "outputs": [],
   "source": []
  }
 ],
 "metadata": {
  "kernelspec": {
   "display_name": "Python 3",
   "language": "python",
   "name": "python3"
  },
  "language_info": {
   "codemirror_mode": {
    "name": "ipython",
    "version": 3
   },
   "file_extension": ".py",
   "mimetype": "text/x-python",
   "name": "python",
   "nbconvert_exporter": "python",
   "pygments_lexer": "ipython3",
   "version": "3.4.3"
  }
 },
 "nbformat": 4,
 "nbformat_minor": 0
}
