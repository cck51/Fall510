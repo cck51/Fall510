{
 "cells": [
  {
   "cell_type": "code",
   "execution_count": 22,
   "metadata": {
    "collapsed": false
   },
   "outputs": [],
   "source": [
    "#procedure histogram takes a list of integers and prints a histogram to the screen\n",
    "\n",
    "def histogram(a):   \n",
    "    for i in range(len(a)): #loops over all index values in list\n",
    "        print(a[i] * '*')  #prints the character * a number of times equal to the index value\n",
    "    "
   ]
  },
  {
   "cell_type": "code",
   "execution_count": 21,
   "metadata": {
    "collapsed": false
   },
   "outputs": [],
   "source": [
    "#function max_in_list takes a list of integers and returns the largest value in that list\n",
    "\n",
    "def max_in_list(a):\n",
    "    mymax = a[0]     #assume the maximum value is the first number in the list\n",
    "    for i in range(len(a)): #loop over all values in list\n",
    "        if a[i]>mymax:    #if we find a larger value than our initial max, run the following code\n",
    "            mymax=a[i]   #set the new max equal to the larger value we just found\n",
    "    return mymax\n",
    "            \n"
   ]
  },
  {
   "cell_type": "code",
   "execution_count": 20,
   "metadata": {
    "collapsed": false
   },
   "outputs": [],
   "source": [
    "#function map_words takes a list of words and maps it into a list of integers representing the lengths of the corresponding words\n",
    "\n",
    "def map_words(a):\n",
    "    my_list = [] #intiate empty list\n",
    "    for i in range(len(a)): #loop over all values in list using their index\n",
    "        list_length = len(a[i]) #create variable to be an integer value of the length of each element in our list\n",
    "        my_list.append(list_length) #append this integer value to our empty list\n",
    "    return my_list\n"
   ]
  },
  {
   "cell_type": "code",
   "execution_count": 1,
   "metadata": {
    "collapsed": false
   },
   "outputs": [],
   "source": [
    "#function find_longest_word takes a list of words and returns the length of the largest word\n",
    "\n",
    "def find_longest_word(a):\n",
    "    longest_word = a[0] #assume longest word is the first element of our list\n",
    "    for i in range(len(a)): #loop over each element in our list\n",
    "        if len(a[i])>len(longest_word):  #if we find an element that is a longer word, run the following code\n",
    "            longest_word = a[i]         #reclassify our longest word to be the longer word we just found\n",
    "    return len(longest_word)        #return an integer value representing the length of the longest element\n",
    "\n"
   ]
  },
  {
   "cell_type": "code",
   "execution_count": 19,
   "metadata": {
    "collapsed": false
   },
   "outputs": [],
   "source": [
    "#function filter_long_words takes a list of words and an integer n and returns the list of words that are longer than n\n",
    "\n",
    "def filter_long_words(a,n):  \n",
    "    my_list = []  #generate empty list\n",
    "    for i in range(len(a)): #loops over each value in a\n",
    "        if len(a[i])>n: #if the length of the value is greater than our integer, run the following code\n",
    "            my_list.append(a[i]) #add that word to our list\n",
    "    return my_list\n",
    "\n"
   ]
  },
  {
   "cell_type": "code",
   "execution_count": 18,
   "metadata": {
    "collapsed": false
   },
   "outputs": [],
   "source": [
    "def palindrome_rec(a):\n",
    "    alphabet= 'ABCDEFGHIJKLMNOPQRSTUVWXYZabcdefghijklmnopqrstuvwxyz'\n",
    "    new_string= '' #generate empty string\n",
    "    for i in range(len(a)): #loop over all values in input string\n",
    "        if a[i] in alphabet: #if the value is a member of the alphabet, run the following code\n",
    "            new_string+=a[i] #add that value to our new string\n",
    "    for i in range(len(new_string)//2):  #loops over first half of characters in string\n",
    "         if new_string[i] !=new_string[-1-i]:    #if the the first index value of our new string is not equal to the last index value (and so on) run this code:\n",
    "                 return False  \n",
    "    return True\n",
    "\n"
   ]
“AW: code works for single words but must also consider sentences”
  },
  {
   "cell_type": "code",
   "execution_count": 23,
   "metadata": {
    "collapsed": false
   },
   "outputs": [],
   "source": [
    "#function is_pangram takes a sentence and returns true if the sentence uses all the letters of the alphabet at least once and false otherwise\n",
    "\n",
    "def is_pangram(a):\n",
    "    chars = 'abcdefghijklmnopqrstuvwxyz' \n",
    "    num_letters= 0 #initiate counter variable at 0\n",
    "    for i in chars:  #loop over all characters in alphabet\n",
    "        if i in a:   #if that character is also in our sentence\n",
    "            num_letters+=1 #increase the counter by 1\n",
    "    if num_letters == 26:  #if the counter is exactly 26, each letter in the alphabet has been used\n",
    "        return True\n",
    "    else:\n",
    "        return False\n",
    "            "
   ]
  },
  {
   "cell_type": "code",
   "execution_count": 28,
   "metadata": {
    "collapsed": false
   },
   "outputs": [],
   "source": [
    "#function gen_verse generates all verses to the song \"99 bottles of coke\" until 0 bottles are reached\n",
    "def gen_verse():\n",
    "    a = 99\n",
    "    while a>0:\n",
    "        print(str(a) + 'bottles of coke on the wall, ' + str(a) + 'bottles of coke')\n",
    "        print('Take one down you pass it around, ' + str((a-1)) + 'bottles of coke on the wall') \n",
    "        a-=1\n"
   ]
  },
  {
   "cell_type": "code",
   "execution_count": 46,
   "metadata": {
    "collapsed": false
   },
   "outputs": [],
   "source": [
    "#function translate takes a dictionary of english and swedish words\n",
    "#and translates a list of english words into a list of equivalent swedish words\n",
    "\n",
    "dic= {\"merry\":\"god\",\"christmas\":\"jul\", \"and\":\"och\", \"happy\":\"gott\", \"new\":\"nytt\", \"year\":\"ar\"}\n",
    "def translate(a):\n",
    "    new_list = []\n",
    "    for word in a:\n",
    "        new_list.append(dic[word])\n",
    "    return new_list\n"
   ]
  },
  {
   "cell_type": "code",
   "execution_count": 47,
   "metadata": {
    "collapsed": false
   },
   "outputs": [],
   "source": [
    "#function char_freq takes a string and counts the number of occurences of each letter,\n",
    "#returning a dictionary of the letters and their corresponding frequencies\n",
    "\n",
    "def char_freq(my_string):\n",
    "    dic= {} #generate empty dictionary\n",
    "    for i in range(len(my_string)): #loop over all index values in my_string\n",
    "        if my_string[i] in dic: #if the value of the index is a letter that is already in our dictionary\n",
    "            dic[my_string[i]]= int(dic.get(my_string[i]))+1 #increase that key's value by 1\n",
    "        else:\n",
    "            dic[my_string[i]]= 1 #if the index value is letter not already in the dictionary, start that key's value at 1\n",
    "    return dic\n"
   ]
  },
  {
   "cell_type": "code",
   "execution_count": 48,
   "metadata": {
    "collapsed": false
   },
   "outputs": [
    {
     "name": "stdout",
     "output_type": "stream",
     "text": [
      "Caesar cipher? I much prefer Caesar salad! \n"
     ]
    }
   ],
   "source": [
    "#function decoder_endcoder takes a phrase and encodes it to ROT-13, or alternatively, \n",
    "#the function takes a phrase in ROT-13 and decodes it into English \n",
    "\n",
    "import re #imports regular expression, commonly used to search for patterns in text\n",
    " \n",
    "key = {'a':'n', 'b':'o', 'c':'p', 'd':'q', 'e':'r', 'f':'s', 'g':'t', 'h':'u', \n",
    "       'i':'v', 'j':'w', 'k':'x', 'l':'y', 'm':'z', 'n':'a', 'o':'b', 'p':'c', \n",
    "       'q':'d', 'r':'e', 's':'f', 't':'g', 'u':'h', 'v':'i', 'w':'j', 'x':'k',\n",
    "       'y':'l', 'z':'m', 'A':'N', 'B':'O', 'C':'P', 'D':'Q', 'E':'R', 'F':'S', \n",
    "       'G':'T', 'H':'U', 'I':'V', 'J':'W', 'K':'X', 'L':'Y', 'M':'Z', 'N':'A', \n",
    "       'O':'B', 'P':'C', 'Q':'D', 'R':'E', 'S':'F', 'T':'G', 'U':'H', 'V':'I', \n",
    "       'W':'J', 'X':'K', 'Y':'L', 'Z':'M'}\n",
    " \n",
    "def decoder_encoder(phrase):\n",
    "    new_string = \"\" #generate new empty string\n",
    "    for word in (re.findall('[a-zA-Z0-9?!]+', phrase)): #loops over all characters(a-z,A-Z,0-9, and special characters) in phrase \n",
    "        for j in range(len(word)): #loops over each character in word\n",
    "            if word[j] in key: #if that character is in our dictionary \n",
    "                new_string = new_string+key[word[j]] #add that key's value to our new string\n",
    "            else:\n",
    "                new_string = new_string+word[j]\n",
    "        new_string = new_string+\" \"\n",
    "    print(new_string)\n",
    "\n",
    "decoder_encoder('Pnrfne pvcure? V zhpu cersre Pnrfne fnynq!')"
   ]
  },
  {
   "cell_type": "code",
   "execution_count": 43,
   "metadata": {
    "collapsed": false
   },
   "outputs": [
    {
     "name": "stdout",
     "output_type": "stream",
     "text": [
      "This is very funny and cool. Indeed!\n"
     ]
    }
   ],
   "source": [
    "#function correct takes a sentence and compresses any occurrences of two or more whitespaces \n",
    "#into one, and also adds an extra space after each period that is followed by a letter\n",
    "\n",
    "def correct(my_string):\n",
    "        import re\n",
    "        new_string = re.sub(r'\\s{2,}', \" \", my_string)  #compresses two or more white spaces into one\n",
    "        new_string = re.sub(r'\\.([a-zA-Z])', '. \\\\1', new_string) #inserts an extra space after each period that is followed by a letter\n",
    "        print(new_string)\n",
    "        \n",
    "correct('This is very funny and cool.Indeed!')"
   ]
  },
  {
   "cell_type": "code",
   "execution_count": null,
   "metadata": {
    "collapsed": true
   },
   "outputs": [],
   "source": []
  },
  {
   "cell_type": "code",
   "execution_count": 54,
   "metadata": {
    "collapsed": false
   },
   "outputs": [],
   "source": [
    "#function make_3sg_form takes an infinite form of a verb and turns it into the third person singular form of the verb\n",
    "\n",
    "def make_3sg_form(verb): \n",
    "     if verb.endswith('y'): #if the last letter is y\n",
    "        return verb[:-1] + 'ies' #drop the y and add 'ies'\n",
    "     elif verb.endswith(('o', 'ch', 's', 'sh', 'x', 'z')): #if it ends in these letter(s)\n",
    "        return verb + 'es' #just add 'es' to the end\n",
    "     else: #otherwise \n",
    "        return verb + 's'  #just add an 's' onto the end of the verb\n",
    "    "
   ]
  },
  {
   "cell_type": "code",
   "execution_count": 51,
   "metadata": {
    "collapsed": false
   },
   "outputs": [],
   "source": [
    "#function make_ing_form takes an infinite form of a verb and turns it into present participle form\n",
    "\n",
    "def make_ing_form(word):\n",
    "    if word.endswith('ie'): #if the last two letters of the words are ie, run the following code\n",
    "        word = word.rstrip('ie') #chops off 'ie' from the word\n",
    "        new_word = word+'y'+'ing'\n",
    "         \n",
    "    elif word.endswith('e'): #otherwise if our word ends in the letter e\n",
    "        word = word[:-1] #grabs characters from beginning to index position -1(excluded)\n",
    "        new_word = word+'ing' \n",
    " \n",
    "    elif word[-2] in 'aiou': #if character in second to last position is either an a,i,o, or u\n",
    "        new_word = word + word[-1] + 'ing'  #add the last character back onto the word and then add 'ing' to the end\n",
    " \n",
    "    print(str(new_word))\n"
   ]
“AW: Every function should have doc header comments using triple quotes so the function is supported by the help() function. Great comments overall.”
  },
  {
   "cell_type": "code",
   "execution_count": null,
   "metadata": {
    "collapsed": true
   },
   "outputs": [],
   "source": []
  }
 ],
 "metadata": {
  "kernelspec": {
   "display_name": "Python 3",
   "language": "python",
   "name": "python3"
  },
  "language_info": {
   "codemirror_mode": {
    "name": "ipython",
    "version": 3
   },
   "file_extension": ".py",
   "mimetype": "text/x-python",
   "name": "python",
   "nbconvert_exporter": "python",
   "pygments_lexer": "ipython3",
   "version": "3.4.3"
  }
 },
 "nbformat": 4,
 "nbformat_minor": 0
}
