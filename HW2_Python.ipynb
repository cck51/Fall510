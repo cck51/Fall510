{
 "cells": [
  {
   "cell_type": "code",
   "execution_count": 22,
   "metadata": {
    "collapsed": false
   },
   "outputs": [
    {
     "name": "stdout",
     "output_type": "stream",
     "text": [
      "[0, 1, 1, 2, 3, 5, 8]\n"
     ]
    }
   ],
   "source": [
    "def fib(n):\n",
    "    A0,A1 = 0,1\n",
    "    fib_list= [0,1]\n",
    "    for i in range(n-1):\n",
    "        A0,A1 = A1,A0+A1\n",
    "        if A1<n:\n",
    "            fib_list.append(A1)\n",
    "    return fib_list\n",
    "\n"
   ]
  },
  {
   "cell_type": "code",
   "execution_count": null,
   "metadata": {
    "collapsed": false
   },
   "outputs": [],
   "source": [
    "def mymax(a,b):\n",
    "    if a>b:\n",
    "        return a\n",
    "    else:\n",
    "        return b"
   ]
  },
  {
   "cell_type": "code",
   "execution_count": null,
   "metadata": {
    "collapsed": false
   },
   "outputs": [],
   "source": [
    "def max_of_three(a,b,c):\n",
    "    max= a\n",
    "    if b>a and b>c:\n",
    "        max= b\n",
    "    if c>a and c>b:\n",
    "        max= c\n",
    "    return(max)\n",
    "\n",
    "\n",
    "    "
   ]
  },
  {
   "cell_type": "code",
   "execution_count": 10,
   "metadata": {
    "collapsed": false
   },
   "outputs": [
    {
     "data": {
      "text/plain": [
       "3"
      ]
     },
     "execution_count": 10,
     "metadata": {},
     "output_type": "execute_result"
    }
   ],
   "source": [
    "def mylen(my_string):\n",
    "    length = 0\n",
    "    for i in my_string:\n",
    "        length+= 1\n",
    "    return (length)\n"
   ]
  },
  {
   "cell_type": "code",
   "execution_count": 2,
   "metadata": {
    "collapsed": false
   },
   "outputs": [
    {
     "data": {
      "text/plain": [
       "True"
      ]
     },
     "execution_count": 2,
     "metadata": {},
     "output_type": "execute_result"
    }
   ],
   "source": [
    "def vowel(a):\n",
    "    if a == 'a' or a == 'e' or a == 'i' or a == 'o' or a== 'u':\n",
    "        return True\n",
    "    else:\n",
    "        return False\n",
    "    \n"
   ]
  },
  {
   "cell_type": "code",
   "execution_count": null,
   "metadata": {
    "collapsed": false
   },
   "outputs": [],
   "source": [
    "def translate(x):\n",
    "    cons=\"bcdfghjklmnpqrstvwxyzBCDFGHJKLMNPQRSTVWXYZ\"\n",
    "    newtext = ''\n",
    "    for i in range(len(x)):\n",
    "        if x[i] in cons:\n",
    "            newtext += str(x[i]) + \"o\" + str(x[i])\n",
    "        else:\n",
    "            newtext += str(x[i])\n",
    "    return newtext\n",
    "\n",
    " "
   ]
  },
  {
   "cell_type": "code",
   "execution_count": 72,
   "metadata": {
    "collapsed": false
   },
   "outputs": [],
   "source": [
    "def Sum(list):\n",
    "    my_sum= 0\n",
    "    for i in list:\n",
    "        my_sum+= i\n",
    "    return my_sum\n",
    "\n",
    "def multiply(list):\n",
    "    my_product = 1\n",
    "    for i in list:\n",
    "        my_product*= i\n",
    "    return my_product\n",
    "\n"
   ]
  },
  {
   "cell_type": "code",
   "execution_count": 22,
   "metadata": {
    "collapsed": false
   },
   "outputs": [
    {
     "data": {
      "text/plain": [
       "'gnitset ma i'"
      ]
     },
     "execution_count": 22,
     "metadata": {},
     "output_type": "execute_result"
    }
   ],
   "source": [
    "def reverse(string):\n",
    "    my_string= ''\n",
    "    ctr = len(string)-1\n",
    "    while ctr>= 0: \n",
    "        my_string+= string[ctr]\n",
    "        ctr -= 1 \n",
    "    return my_string\n",
    "\n",
    "\n",
    "        "
   ]
  },
  {
   "cell_type": "code",
   "execution_count": null,
   "metadata": {
    "collapsed": false
   },
   "outputs": [],
   "source": [
    "def is_palindrome(x):\n",
    "    for i in range(len(x)//2):\n",
    "         if x[i] !=x[-1-i]:\n",
    "                 return False\n",
    "    return True\n",
    "\n"
   ]
  },
  {
   "cell_type": "code",
   "execution_count": null,
   "metadata": {
    "collapsed": false
   },
   "outputs": [],
   "source": [
    "def is_member(x,a):\n",
    "    for i in range(len(a)):\n",
    "        if x == a[i]:\n",
    "            return True\n",
    "        else:\n",
    "            return False\n",
    "    "
   ]
  },
  {
   "cell_type": "code",
   "execution_count": 63,
   "metadata": {
    "collapsed": false
   },
   "outputs": [
    {
     "data": {
      "text/plain": [
       "True"
      ]
     },
     "execution_count": 63,
     "metadata": {},
     "output_type": "execute_result"
    }
   ],
   "source": [
    "def overlapping(list1, list2):\n",
    "    for i in range(len(list1)):\n",
    "        for p in range(len(list2)):\n",
    "            if list1[i] == list2[p]:\n",
    "                return True\n",
    "    else:\n",
    "        return False\n"
   ]
  },
  {
   "cell_type": "code",
   "execution_count": null,
   "metadata": {
    "collapsed": true
   },
   "outputs": [],
   "source": [
    "def generate_n_chars(n,c):\n",
    "    string=''\n",
    "    for i in range(0,n):\n",
    "        string += c\n",
    "    return string\n"
   ]
  },
  {
   "cell_type": "code",
   "execution_count": null,
   "metadata": {
    "collapsed": true
   },
   "outputs": [],
   "source": []
  }
 ],
 "metadata": {
  "kernelspec": {
   "display_name": "Python 3",
   "language": "python",
   "name": "python3"
  },
  "language_info": {
   "codemirror_mode": {
    "name": "ipython",
    "version": 3
   },
   "file_extension": ".py",
   "mimetype": "text/x-python",
   "name": "python",
   "nbconvert_exporter": "python",
   "pygments_lexer": "ipython3",
   "version": "3.4.3"
  }
 },
 "nbformat": 4,
 "nbformat_minor": 0
}
