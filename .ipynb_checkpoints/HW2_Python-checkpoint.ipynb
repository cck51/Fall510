{
 "cells": [
  {
   "cell_type": "code",
   "execution_count": null,
   "metadata": {
    "collapsed": true
   },
   "outputs": [],
   "source": [
    "# Function fib() takes an integer and returns all fibonnacci numbers less than the integer\n",
    "\n",
    "def fib(n):     \n",
    "    A0,A1 = 0,1    #initiates first two values\n",
    "    fib_list= [0,1]  #initiates list to be populated with fibonnacci numbers\n",
    "    for i in range(n):  #goes through each number from 0 through n-1\n",
    "        A0,A1 = A1,A0+A1  #recursive formula for finding fibonnacci numbers, each number is found by adding the two previous fibonnacci numbers\n",
    "        if A1<n:          #if generated fibonnacci number is less than n run the following code:\n",
    "            fib_list.append(A1)  #append the number to our list\n",
    "    return fib_list     #return the list we have generated of all fibonnacci numbers less than n\n",
    "\n"
   ]
“AW: write function header comments (explaining what the function does, what the input parameters are, and what is returned) and an example showing that your code works.”
  },
  {
   "cell_type": "code",
   "execution_count": null,
   "metadata": {
    "collapsed": false
   },
   "outputs": [],
   "source": [
    "# Function mymax takes two integers are returns the larger of the two\n",
    "\n",
    "def mymax(a,b):\n",
    "    if a>b:   #if a>b run the following code:\n",
    "        return a\n",
    "    else:     \n",
    "        return b #if a is not greater than b, that means b is larger so return b"
   ]
“AW: write function header comments (explaining what the function does, what the input parameters are, and what is returned) and an example showing that your code works”
  },
  {
   "cell_type": "code",
   "execution_count": null,
   "metadata": {
    "collapsed": false
   },
   "outputs": [],
   "source": [
    "#Function max_of_three takes three integers are returns the largest\n",
    "\n",
    "def max_of_three(a,b,c):\n",
    "    max= a      #assume a is the largest\n",
    "    if b>a and b>c:  #if b is larger than a and b is also larger than c run the following code:\n",
    "        max= b      #set the max to b\n",
    "    if c>a and c>b: #if c is larger than a and c is larger than b run the following code:\n",
    "        max= c      #set the max to c\n",
    "    return(max)    \n",
    "\n",
    "\n",
    "    "
   ]
“AW: write function header comments (explaining what the function does, what the input parameters are, and what is returned) and an example showing that your code works”
  },
  {
   "cell_type": "code",
   "execution_count": 29,
   "metadata": {
    "collapsed": false
   },
   "outputs": [],
   "source": [
    "#Function mylen takes a string and returns the length of the string\n",
    "\n",
    "def mylen(my_string): \n",
    "    length = 0          #set length initially to 0\n",
    "    for i in my_string: #this will loop over each character in my_string and for each character run the following code:\n",
    "        length+= 1     #increase the length by 1\n",
    "    return (length)   #this will return the total length of the string\n"
   ]
“AW: write function header comments (explaining what the function does, what the input parameters are, and what is returned) and an example showing that your code works”
  },
  {
   "cell_type": "code",
   "execution_count": 30,
   "metadata": {
    "collapsed": false
   },
   "outputs": [],
   "source": [
    "#Function vowel takes a string of length one and returns true of the string is a vowel and false otherwise\n",
    "\n",
    "def vowel(a):\n",
    "    if a == 'a' or a == 'e' or a == 'i' or a == 'o' or a== 'u':\n",
    "        return True\n",
    "    else:\n",
    "        return False\n",
    "    \n"
   ]
“AW: write function header comments (explaining what the function does, what the input parameters are, and what is returned) and an example showing that your code works. Should the upper case vowel be accounted for? Please show in-line comments for vowel()”
  },
  {
   "cell_type": "code",
   "execution_count": null,
   "metadata": {
    "collapsed": false
   },
   "outputs": [],
   "source": [
    "#Function translate takes a string and doubles every consonant while placing an \"o\" in between\n",
    "\n",
    "def translate(x):\n",
    "    cons=\"bcdfghjklmnpqrstvwxyzBCDFGHJKLMNPQRSTVWXYZ\" #define a string containing all the consonants\n",
    "    newtext = '' #generate an empty string\n",
    "    for i in range(len(x)): #this will loop over all values from zero to the length of the string\n",
    "        if x[i] in cons:    #if the index value of our string x is a character that is in our string cons, run the following code:\n",
    "            newtext += str(x[i]) + \"o\" + str(x[i]) #adds new string, if the letter is a consonant double the letter and place an \"o\" in between\n",
    "        else:\n",
    "            newtext += str(x[i])   #if the index of our string x is not in the string cons, leave it alone and add it to our new string\n",
    "    return newtext\n",
    "\n",
    " "
   ]
“AW: write function header comments (explaining what the function does, what the input parameters are, and what is returned) and an example showing that your code works”
  },
  {
   "cell_type": "code",
   "execution_count": 72,
   "metadata": {
    "collapsed": false
   },
   "outputs": [],
   "source": [
    "#Function Sum calculates sum of a list of numbers\n",
    "#Function multiply calculates the product of a list of numbers\n",
    "\n",
    "def Sum(list):\n",
    "    my_sum= 0 #start the sum at 0\n",
    "    for i in list: #loop over each value in list\n",
    "        my_sum+= i #increase the sum by each value in list\n",
    "    return my_sum\n",
    "\n",
“AW: write function header comments (explaining what the function does, what the input parameters are, and what is returned) and an example showing that your code works”
    "def multiply(list):\n",
    "    my_product = 1 #start the product at 1\n",
    "    for i in list: #loop over each value in list\n",
    "        my_product*= i #multiply each value in list\n",
    "    return my_product\n",
    "\n"
   ]
“AW: write function header comments (explaining what the function does, what the input parameters are, and what is returned) and an example showing that your code works”
  },
  {
   "cell_type": "code",
   "execution_count": 28,
   "metadata": {
    "collapsed": false
   },
   "outputs": [],
   "source": [
    "#Function reverse takes a string and reverses it\n",
    "\n",
    "def reverse(string):\n",
    "    my_string= '' #generate an empty string\n",
    "    ctr = len(string)-1 #generate a counter that starts at the length of the string minus one, this will give us the last index value in the string\n",
    "    while ctr>= 0: #loop over each index value\n",
    "        my_string+= string[ctr] #adds each character of the string to our empty string in reverse order\n",
    "        ctr -= 1 #go down one index value\n",
    "    return my_string\n",
    "\n",
    "\n",
    "        "
   ]
“AW: write function header comments (explaining what the function does, what the input parameters are, and what is returned) and an example showing that your code works”
  },
  {
   "cell_type": "code",
   "execution_count": null,
   "metadata": {
    "collapsed": false
   },
   "outputs": [],
   "source": [
    "#Function is_palindrome returns true if the input string is a palindrome and false otherwise\n",
    "\n",
    "def is_palindrome(x):\n",
    "    for i in range(len(x)//2):  #loops over first half of characters in string\n",
    "         if x[i] !=x[-1-i]:    #if the the first index value is not equal to the last index value (and so on) run this code:\n",
    "                 return False  \n",
    "    return True                #if the first index value is equal to the last index value (and so on for every index value in the string) the string must be a palindrome\n",
    "\n"
   ]
“AW: write function header comments (explaining what the function does, what the input parameters are, and what is returned) and an example showing that your code works”
  },
  {
   "cell_type": "code",
   "execution_count": 27,
   "metadata": {
    "collapsed": false
   },
   "outputs": [],
   "source": [
    "#Function is member takes a value and a list and returns True if the value is a member of the list and false otherwise\n",
    "\n",
    "def is_member(x,a):\n",
    "    for i in range(len(a)): #loops a number of times equal to the number of values in list \n",
    "        if x == a[i]:   #if our value x is equal to any index value of the list return true\n",
    "            return True\n",
    "        else:\n",
    "            return False\n",
    "        "
   ]
“AW: write function header comments (explaining what the function does, what the input parameters are, and what is returned) and an example showing that your code works”
  },
  {
   "cell_type": "code",
   "execution_count": 31,
   "metadata": {
    "collapsed": false
   },
   "outputs": [],
   "source": [
    "#Function overlapping takes two lists and returns True if the lists have any member in common\n",
    "\n",
    "def overlapping(list1, list2):\n",
    "    for i in range(len(list1)): #this will loop over each index value in list1\n",
    "        for p in range(len(list2)): #this will loop over each index value in list2\n",
    "            if list1[i] == list2[p]:  #this checks one index value of list1 at a time to see whether it is equal to any index value in list 2\n",
    "                return True\n",
    "    else:\n",
    "        return False\n"
   ]
“AW: write function header comments (explaining what the function does, what the input parameters are, and what is returned) and an example showing that your code works”
  },
  {
   "cell_type": "code",
   "execution_count": null,
   "metadata": {
    "collapsed": true
   },
   "outputs": [],
   "source": [
    "#Function generate_n_chars takes a character and a number and returns the character repeated that number of times\n",
    "\n",
    "def generate_n_chars(n,c):\n",
    "    string=''\n",
    "    for i in range(n): #loops a number of times equal to n\n",
    "        string += c #each time it loops add the character to our empty string\n",
    "    return string\n"
   ]
“AW: write function header comments (explaining what the function does, what the input parameters are, and what is returned) and an example showing that your code works”
  },
  {
   "cell_type": "code",
   "execution_count": null,
   "metadata": {
    "collapsed": true
   },
   "outputs": [],
   "source": []
  }
 ],
 "metadata": {
  "kernelspec": {
   "display_name": "Python 3",
   "language": "python",
   "name": "python3"
  },
  "language_info": {
   "codemirror_mode": {
    "name": "ipython",
    "version": 3
   },
   "file_extension": ".py",
   "mimetype": "text/x-python",
   "name": "python",
   "nbconvert_exporter": "python",
   "pygments_lexer": "ipython3",
   "version": "3.4.3"
  }
 },
 "nbformat": 4,
 "nbformat_minor": 0
}
